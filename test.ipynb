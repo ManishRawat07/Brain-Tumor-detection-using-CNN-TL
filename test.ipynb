{
 "cells": [
  {
   "cell_type": "code",
   "execution_count": null,
   "metadata": {},
   "outputs": [],
   "source": [
    "import cv2\n",
    "import numpy as np\n",
    "\n",
    "# Load the trained model\n",
    "from tensorflow.keras.models import load_model\n",
    "model = load_model(\"effnet.h5\")\n",
    "\n",
    "# Load and preprocess the new input image\n",
    "new_image_path = \"input/brain-tumor-classification-mri/Final_Testing/MGT2.jpg\"\n",
    "new_image = cv2.imread(new_image_path)\n",
    "\n",
    "if new_image is not None:\n",
    "    new_image = cv2.resize(new_image, (150, 150))\n",
    "    #new_image = new_image / 255.0  # Normalize the image\n",
    "\n",
    "    # Make predictions\n",
    "    new_image = np.expand_dims(new_image, axis=0)  # Add batch dimension\n",
    "    predictions = model.predict(new_image)\n",
    "    predicted_class_index = np.argmax(predictions)\n",
    "    print(predictions)\n",
    "    # Map the predicted class index to the corresponding label\n",
    "    labels = ['glioma_tumor', 'no_tumor', 'meningioma_tumor', 'pituitary_tumor']\n",
    "    predicted_tumor_type = labels[predicted_class_index]\n",
    "\n",
    "    print(\"Predicted tumor type:\", predicted_tumor_type)\n",
    "    \n",
    "else:\n",
    "    print(\"Error: Unable to load the image. Please check the file path.\")"
   ]
  }
 ],
 "metadata": {
  "kernelspec": {
   "display_name": "MachineLearning",
   "language": "python",
   "name": "python3"
  },
  "language_info": {
   "codemirror_mode": {
    "name": "ipython",
    "version": 3
   },
   "file_extension": ".py",
   "mimetype": "text/x-python",
   "name": "python",
   "nbconvert_exporter": "python",
   "pygments_lexer": "ipython3",
   "version": "3.11.4"
  }
 },
 "nbformat": 4,
 "nbformat_minor": 2
}
